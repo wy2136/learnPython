{
 "cells": [
  {
   "cell_type": "markdown",
   "metadata": {
    "colab_type": "text",
    "id": "JkUviKhSYLMF",
    "slideshow": {
     "slide_type": "slide"
    }
   },
   "source": [
    "## Climatology and Anomaly in Geoscience: Part 2\n",
    "An example of how Python is used to explore global sea surface temperature (SST).\n",
    "* Wenchang Yang (wenchang@princeton.edu)\n",
    "* Behrooz Ferdowsi (ferdowsi@princeton.edu)\n",
    "* Department of Geosciences, Princeton University\n",
    "* Junior Colloquium, Nov. 16, 2020\n"
   ]
  },
  {
   "cell_type": "markdown",
   "metadata": {
    "slideshow": {
     "slide_type": "slide"
    }
   },
   "source": [
    "## A short review of the last session\n",
    "1. `xarray` basic usage: `open_dataset`, `sel`, `isel`, `mean`, `plot`.\n",
    "2. Sea surface temperature dataset: ERSST5.\n",
    "3. SST annual climatology and change, monthly climatology."
   ]
  },
  {
   "cell_type": "markdown",
   "metadata": {
    "slideshow": {
     "slide_type": "slide"
    }
   },
   "source": [
    "## Today's plan\n",
    "\n",
    "1. SST anomaly.\n",
    "2. El Nino index (Nino3.4) time series.\n",
    "3. Interactive Q&A.\n"
   ]
  },
  {
   "cell_type": "markdown",
   "metadata": {
    "slideshow": {
     "slide_type": "slide"
    }
   },
   "source": [
    "## Start analysis"
   ]
  },
  {
   "cell_type": "code",
   "execution_count": null,
   "metadata": {
    "ExecuteTime": {
     "end_time": "2019-10-21T16:43:26.868932Z",
     "start_time": "2019-10-21T16:43:25.222395Z"
    },
    "colab": {},
    "colab_type": "code",
    "id": "2nyvaFZnYYtm",
    "slideshow": {
     "slide_type": "fragment"
    }
   },
   "outputs": [],
   "source": [
    "# import and configuration\n",
    "\n",
    "# xarray is the core package we are going to use\n",
    "import xarray as xr\n",
    "import matplotlib.pyplot as plt # we also use pyplot directly in some cases\n",
    "import os\n",
    "# some configurations on the default figure output\n",
    "%config InlineBackend.figure_format ='retina'\n",
    "plt.rcParams['figure.dpi'] = 120"
   ]
  },
  {
   "cell_type": "code",
   "execution_count": null,
   "metadata": {
    "ExecuteTime": {
     "end_time": "2019-10-21T16:44:56.636403Z",
     "start_time": "2019-10-21T16:44:53.628388Z"
    },
    "colab": {
     "base_uri": "https://localhost:8080/",
     "height": 244
    },
    "colab_type": "code",
    "executionInfo": {
     "elapsed": 835,
     "status": "ok",
     "timestamp": 1568235456809,
     "user": {
      "displayName": "Wenchang Yang",
      "photoUrl": "https://lh3.googleusercontent.com/a-/AAuE7mAzexWcchBOvHGw9u_Nm2D-vWc4ApTqQ4uLX1i-=s64",
      "userId": "02317458745209383076"
     },
     "user_tz": 240
    },
    "id": "bik3mA4tYefp",
    "outputId": "c95cc7cf-0866-43b3-ca86-44fa0d0320f8",
    "slideshow": {
     "slide_type": "slide"
    }
   },
   "outputs": [],
   "source": [
    "# analysis of last session\n",
    "\n",
    "# sst data file\n",
    "# Am I running the notebook on Adroit or not?\n",
    "if os.uname().nodename.startswith('adroit'):\n",
    "    ifile = '/home/wenchang/JC2020/ersst5_1979-2018.nc'\n",
    "else:\n",
    "    ifile = 'ersst5_1979-2018.nc'\n",
    "print('file to be opened:',ifile)\n",
    "\n",
    "# open the sst dataset\n",
    "ds = xr.open_dataset(ifile)\n",
    "\n",
    "# get the sst DataArray\n",
    "sst = ds.sst\n",
    "\n",
    "# 40-year annual mean climatology\n",
    "sst_clim = sst.mean('time')\n",
    "\n",
    "# difference between the first and last 10-year climatologies\n",
    "sst_early = sst.sel(time=slice('1979-01', '1988-12')).mean('time')\n",
    "sst_late = sst.sel(time=slice('2009-01', '2018-12')).mean('time')\n",
    "dsst = sst_late - sst_early\n",
    "dsst.attrs['long_name'] = 'SST change from 1979-1988 to 2009-2018'\n",
    "dsst.attrs['units'] = '$^\\circ$C'\n",
    "\n",
    "# monthly climatology: the time dimension is now replaced by month\n",
    "sst_mclim = sst.groupby('time.month').mean('time')"
   ]
  },
  {
   "cell_type": "code",
   "execution_count": null,
   "metadata": {
    "ExecuteTime": {
     "end_time": "2019-10-21T17:01:39.754976Z",
     "start_time": "2019-10-21T17:01:36.561430Z"
    },
    "colab": {
     "base_uri": "https://localhost:8080/",
     "height": 1000
    },
    "colab_type": "code",
    "executionInfo": {
     "elapsed": 4631,
     "status": "ok",
     "timestamp": 1567700569017,
     "user": {
      "displayName": "Wenchang Yang",
      "photoUrl": "https://lh3.googleusercontent.com/a-/AAuE7mAzexWcchBOvHGw9u_Nm2D-vWc4ApTqQ4uLX1i-=s64",
      "userId": "02317458745209383076"
     },
     "user_tz": 240
    },
    "id": "CDFFxfZBicEF",
    "outputId": "3e13395e-1d61-4301-d096-048cab906141",
    "slideshow": {
     "slide_type": "slide"
    }
   },
   "outputs": [],
   "source": [
    "# Make 12 subplots using a single command.\n",
    "sst_mclim.plot.contourf(col='month', col_wrap=6, levels=20, \n",
    "                        cmap='Spectral_r', center=False)"
   ]
  },
  {
   "cell_type": "markdown",
   "metadata": {
    "colab_type": "text",
    "id": "qDimD2IIAp22",
    "slideshow": {
     "slide_type": "slide"
    }
   },
   "source": [
    "## Calculate monthly anomaly\n",
    "Subtract the monthly climatology from the raw SST data."
   ]
  },
  {
   "cell_type": "code",
   "execution_count": null,
   "metadata": {
    "ExecuteTime": {
     "end_time": "2019-10-21T17:02:55.709240Z",
     "start_time": "2019-10-21T17:02:55.530421Z"
    },
    "colab": {
     "base_uri": "https://localhost:8080/",
     "height": 561
    },
    "colab_type": "code",
    "executionInfo": {
     "elapsed": 800,
     "status": "ok",
     "timestamp": 1567700593776,
     "user": {
      "displayName": "Wenchang Yang",
      "photoUrl": "https://lh3.googleusercontent.com/a-/AAuE7mAzexWcchBOvHGw9u_Nm2D-vWc4ApTqQ4uLX1i-=s64",
      "userId": "02317458745209383076"
     },
     "user_tz": 240
    },
    "id": "TQBWe3yxjptK",
    "outputId": "4dc7bdc7-1132-451b-8a2d-c61d3214683d",
    "slideshow": {
     "slide_type": "subslide"
    }
   },
   "outputs": [],
   "source": [
    "ssta = sst.groupby('time.month') - sst_mclim\n",
    "# monthly climatology is now removed"
   ]
  },
  {
   "cell_type": "code",
   "execution_count": null,
   "metadata": {
    "scrolled": false,
    "slideshow": {
     "slide_type": "subslide"
    }
   },
   "outputs": [],
   "source": [
    "ssta"
   ]
  },
  {
   "cell_type": "code",
   "execution_count": null,
   "metadata": {
    "ExecuteTime": {
     "end_time": "2019-10-21T17:03:24.148816Z",
     "start_time": "2019-10-21T17:03:23.758164Z"
    },
    "colab": {
     "base_uri": "https://localhost:8080/",
     "height": 507
    },
    "colab_type": "code",
    "executionInfo": {
     "elapsed": 1136,
     "status": "ok",
     "timestamp": 1567700660707,
     "user": {
      "displayName": "Wenchang Yang",
      "photoUrl": "https://lh3.googleusercontent.com/a-/AAuE7mAzexWcchBOvHGw9u_Nm2D-vWc4ApTqQ4uLX1i-=s64",
      "userId": "02317458745209383076"
     },
     "user_tz": 240
    },
    "id": "OKZ-I_UJkTMk",
    "outputId": "675e0cdd-cd18-4e17-fc3a-3c871b0f5227",
    "slideshow": {
     "slide_type": "subslide"
    }
   },
   "outputs": [],
   "source": [
    "# The 1997 winter is a big El Nino season\n",
    "ssta.sel(time=slice('1997-12', '1998-02')).mean('time').plot.contourf(levels=19)"
   ]
  },
  {
   "cell_type": "code",
   "execution_count": null,
   "metadata": {
    "ExecuteTime": {
     "end_time": "2019-10-21T17:03:24.148816Z",
     "start_time": "2019-10-21T17:03:23.758164Z"
    },
    "colab": {
     "base_uri": "https://localhost:8080/",
     "height": 507
    },
    "colab_type": "code",
    "executionInfo": {
     "elapsed": 1136,
     "status": "ok",
     "timestamp": 1567700660707,
     "user": {
      "displayName": "Wenchang Yang",
      "photoUrl": "https://lh3.googleusercontent.com/a-/AAuE7mAzexWcchBOvHGw9u_Nm2D-vWc4ApTqQ4uLX1i-=s64",
      "userId": "02317458745209383076"
     },
     "user_tz": 240
    },
    "id": "OKZ-I_UJkTMk",
    "outputId": "675e0cdd-cd18-4e17-fc3a-3c871b0f5227",
    "slideshow": {
     "slide_type": "subslide"
    }
   },
   "outputs": [],
   "source": [
    "# The 1998 winter is a big La Nina season\n",
    "ssta.sel(time=slice('1998-12', '1999-02')).mean('time').plot.contourf(levels=19)"
   ]
  },
  {
   "cell_type": "code",
   "execution_count": null,
   "metadata": {
    "ExecuteTime": {
     "end_time": "2019-10-21T17:03:24.148816Z",
     "start_time": "2019-10-21T17:03:23.758164Z"
    },
    "colab": {
     "base_uri": "https://localhost:8080/",
     "height": 507
    },
    "colab_type": "code",
    "executionInfo": {
     "elapsed": 1136,
     "status": "ok",
     "timestamp": 1567700660707,
     "user": {
      "displayName": "Wenchang Yang",
      "photoUrl": "https://lh3.googleusercontent.com/a-/AAuE7mAzexWcchBOvHGw9u_Nm2D-vWc4ApTqQ4uLX1i-=s64",
      "userId": "02317458745209383076"
     },
     "user_tz": 240
    },
    "id": "OKZ-I_UJkTMk",
    "outputId": "675e0cdd-cd18-4e17-fc3a-3c871b0f5227",
    "slideshow": {
     "slide_type": "subslide"
    }
   },
   "outputs": [],
   "source": [
    "# The 2015 winter is also a big El Nino season\n",
    "ssta.sel(time=slice('2015-12', '2016-02')).mean('time').plot.contourf(levels=19)"
   ]
  },
  {
   "cell_type": "markdown",
   "metadata": {
    "colab_type": "text",
    "id": "ROmgatpmA1og",
    "slideshow": {
     "slide_type": "slide"
    }
   },
   "source": [
    "## Calculate the Nino3.4 index\n",
    "* SST anomaly averaged over the Nino3.4 region: 170W-120W, 5S-5N\n",
    "![ENSO](http://www.bom.gov.au/climate/enso/indices/oceanic-indices-map.gif)\n",
    "http://www.bom.gov.au/climate/enso/indices/oceanic-indices-map.gif"
   ]
  },
  {
   "cell_type": "code",
   "execution_count": null,
   "metadata": {
    "ExecuteTime": {
     "end_time": "2019-10-21T17:05:56.293000Z",
     "start_time": "2019-10-21T17:05:56.272580Z"
    },
    "colab": {
     "base_uri": "https://localhost:8080/",
     "height": 153
    },
    "colab_type": "code",
    "executionInfo": {
     "elapsed": 453,
     "status": "ok",
     "timestamp": 1567700672119,
     "user": {
      "displayName": "Wenchang Yang",
      "photoUrl": "https://lh3.googleusercontent.com/a-/AAuE7mAzexWcchBOvHGw9u_Nm2D-vWc4ApTqQ4uLX1i-=s64",
      "userId": "02317458745209383076"
     },
     "user_tz": 240
    },
    "id": "fusZ4HXhuDXt",
    "outputId": "d962bf54-3d16-4684-9ca7-a5bf66739104",
    "slideshow": {
     "slide_type": "subslide"
    }
   },
   "outputs": [],
   "source": [
    "nino34 = ssta.sel(lon=slice(360-170,360-120),lat=slice(-5,5)).mean(['lon','lat'])\n",
    "nino34.attrs['long_name'] = 'Nino3.4 index'"
   ]
  },
  {
   "cell_type": "code",
   "execution_count": null,
   "metadata": {
    "slideshow": {
     "slide_type": "subslide"
    }
   },
   "outputs": [],
   "source": [
    "nino34"
   ]
  },
  {
   "cell_type": "code",
   "execution_count": null,
   "metadata": {
    "ExecuteTime": {
     "end_time": "2019-10-21T17:06:36.647383Z",
     "start_time": "2019-10-21T17:06:36.318282Z"
    },
    "colab": {
     "base_uri": "https://localhost:8080/",
     "height": 492
    },
    "colab_type": "code",
    "executionInfo": {
     "elapsed": 1663,
     "status": "ok",
     "timestamp": 1567700675793,
     "user": {
      "displayName": "Wenchang Yang",
      "photoUrl": "https://lh3.googleusercontent.com/a-/AAuE7mAzexWcchBOvHGw9u_Nm2D-vWc4ApTqQ4uLX1i-=s64",
      "userId": "02317458745209383076"
     },
     "user_tz": 240
    },
    "id": "h7W9LsfhuP2i",
    "outputId": "1d8aa14d-32ba-423c-da48-b06c8e816c3a",
    "slideshow": {
     "slide_type": "subslide"
    }
   },
   "outputs": [],
   "source": [
    "nino34.plot()\n",
    "plt.axvline('2015-12', color='gray', ls='--')\n",
    "plt.text('2015-12', 2, '2015-12', rotation=-45, color='gray', )\n",
    "plt.axvline('1997-12', color='gray', ls='--')\n",
    "plt.text('1997-12', 2, '1997-12', rotation=-45, color='gray', )\n",
    "plt.axvline('1982-12', color='gray', ls='--')\n",
    "plt.text('1982-12', 2, '1982-12', rotation=-45, color='gray', )"
   ]
  },
  {
   "cell_type": "markdown",
   "metadata": {
    "slideshow": {
     "slide_type": "slide"
    }
   },
   "source": [
    "## Seasonality of El Nino/La Nina"
   ]
  },
  {
   "cell_type": "code",
   "execution_count": null,
   "metadata": {
    "ExecuteTime": {
     "end_time": "2019-10-21T17:20:55.779552Z",
     "start_time": "2019-10-21T17:20:55.452592Z"
    },
    "colab": {
     "base_uri": "https://localhost:8080/",
     "height": 473
    },
    "colab_type": "code",
    "executionInfo": {
     "elapsed": 1155,
     "status": "ok",
     "timestamp": 1567700813854,
     "user": {
      "displayName": "Wenchang Yang",
      "photoUrl": "https://lh3.googleusercontent.com/a-/AAuE7mAzexWcchBOvHGw9u_Nm2D-vWc4ApTqQ4uLX1i-=s64",
      "userId": "02317458745209383076"
     },
     "user_tz": 240
    },
    "id": "Z60v5lhZ1vG2",
    "outputId": "74dff819-35de-4ecf-f666-c9eaa2dad22b",
    "slideshow": {
     "slide_type": "slide"
    }
   },
   "outputs": [],
   "source": [
    "# compare Nino3.4 index variability for each month\n",
    "da = nino34.groupby('time.month').std('time') # standard deviation for each month\n",
    "da = da.roll(month=-5).assign_coords(month=range(6, 18)) # roll the time series to start from Jun\n",
    "da.plot()\n",
    "plt.bar(da.month, da.values, color='lightgray')\n",
    "plt.ylabel('Nino3.4 standard deviation [$^\\circ$C]')\n",
    "plt.xticks(range(6,18), ['Jun', 'Jul', 'Aug', 'Sep', 'Oct', 'Nov', 'Dec', 'Jan', 'Feb', 'Mar', 'Apr', 'May'])\n",
    "plt.grid(True)"
   ]
  },
  {
   "cell_type": "markdown",
   "metadata": {
    "slideshow": {
     "slide_type": "subslide"
    }
   },
   "source": [
    "December shows the largest variability!"
   ]
  },
  {
   "cell_type": "markdown",
   "metadata": {
    "slideshow": {
     "slide_type": "slide"
    }
   },
   "source": [
    "## What's next\n",
    "\n",
    "* Python resource: https://wy2136.github.io/python.html\n",
    "* Popular packages: `xarray`, `pandas`, `numpy`, `matplotlib`.\n",
    "* Machine learning: `sklearn`, `keras`, `pytorch`.\n",
    "* Try to apply these tools to your project.\n",
    "* Google first for a question.\n",
    "* Ask around if google doesn't help."
   ]
  },
  {
   "cell_type": "markdown",
   "metadata": {
    "slideshow": {
     "slide_type": "fragment"
    }
   },
   "source": [
    "## Q&A"
   ]
  }
 ],
 "metadata": {
  "celltoolbar": "Slideshow",
  "colab": {
   "collapsed_sections": [],
   "name": "sst.ipynb",
   "provenance": [],
   "toc_visible": true,
   "version": "0.3.2"
  },
  "hide_input": false,
  "kernelspec": {
   "display_name": "Python 3",
   "language": "python",
   "name": "python3"
  },
  "language_info": {
   "codemirror_mode": {
    "name": "ipython",
    "version": 3
   },
   "file_extension": ".py",
   "mimetype": "text/x-python",
   "name": "python",
   "nbconvert_exporter": "python",
   "pygments_lexer": "ipython3",
   "version": "3.8.3"
  },
  "toc": {
   "base_numbering": 1,
   "nav_menu": {},
   "number_sections": false,
   "sideBar": true,
   "skip_h1_title": false,
   "title_cell": "Table of Contents",
   "title_sidebar": "Contents",
   "toc_cell": false,
   "toc_position": {},
   "toc_section_display": true,
   "toc_window_display": false
  }
 },
 "nbformat": 4,
 "nbformat_minor": 1
}
