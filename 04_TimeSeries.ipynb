{
 "cells": [
  {
   "cell_type": "markdown",
   "metadata": {
    "colab_type": "text",
    "id": "JkUviKhSYLMF",
    "slideshow": {
     "slide_type": "slide"
    }
   },
   "source": [
    "## From Scientific Questions to `Python Codes`\n",
    "An example of workflow exploring global sea surface temperature data.\n",
    "* Wenchang Yang (wenchang@princeton.edu)\n",
    "* Department of Geosciences, Princeton University\n",
    "* Junior Colloquium, Oct. 21, 2019"
   ]
  },
  {
   "cell_type": "markdown",
   "metadata": {
    "slideshow": {
     "slide_type": "slide"
    }
   },
   "source": [
    "## What's covered so far\n",
    "1. Python basics: `number`, `string`, `list`, `function`, `module`, `package`\n",
    "2. Scientific computation: `numpy`, `scipy`\n",
    "3. Data visualization: `matplotlib`, `cartopy`\n",
    "4. **`xarray`**: high-level, user friendly, computing+plotting\n",
    "\n",
    "Another very useful yet less touched Python package: `pandas`."
   ]
  },
  {
   "cell_type": "markdown",
   "metadata": {
    "slideshow": {
     "slide_type": "slide"
    }
   },
   "source": [
    "## What is `xarray` able to do? \n",
    "<img src=\"http://xarray.pydata.org/en/stable/_static/dataset-diagram-logo.png\" width=\"300\">\n",
    "\n",
    "1. Open/save datasets (single/multiple, local/remote): `open_dataset`, `open_mfdataset`.\n",
    "2. Data selection: `sel`, `isel`.\n",
    "3. Computation: `mean`, `std`, `max`, `min`, `differentiate`, `integrate`, ...\n",
    "4. Split-apply-combine: `groupby`.\n",
    "4. Plot: `plot`, `plot.line`, `plot.contourf`, `plot.hist` ..."
   ]
  },
  {
   "cell_type": "markdown",
   "metadata": {
    "slideshow": {
     "slide_type": "slide"
    }
   },
   "source": [
    "## What we do today\n",
    "Apply `Python/xarray` to explore the global sea surface temperature (SST) variations."
   ]
  },
  {
   "cell_type": "markdown",
   "metadata": {
    "colab_type": "text",
    "id": "TOPbnilz9XD5",
    "slideshow": {
     "slide_type": "slide"
    }
   },
   "source": [
    "## Data\n",
    "* ERSST version 5: global **monthly** SST.\n",
    "* $2^\\circ$ longitude $\\times$ $2^\\circ$ latitude \n",
    "* It covers 1854-present, but we focus on **1979-2018** today.\n",
    "* From Columbia University [data library](http://iridl.ldeo.columbia.edu): http://iridl.ldeo.columbia.edu/SOURCES/.NOAA/.NCDC/.ERSST/.version5/.sst/T/%28Jan%201979%29/%28Dec%202018%29/RANGE/X//lon/renameGRID/Y//lat/renameGRID/T//time/renameGRID/time/(days%20since%201979-01-01)/streamgridunitconvert%5Bzlev%5Daverage"
   ]
  },
  {
   "cell_type": "markdown",
   "metadata": {
    "slideshow": {
     "slide_type": "slide"
    }
   },
   "source": [
    "## Scientific Questions\n",
    "1. Is SST getting warmer over the past four decades? Everywhere?\n",
    "2. How do El Nino/La Nina vary during this period?\n",
    "    \n",
    "![](https://blog.weatherops.com/hubfs/blog-files/elnino-vs-lanina-noaa.jpg)\n",
    "https://blog.weatherops.com/hubfs/blog-files/elnino-vs-lanina-noaa.jpg"
   ]
  },
  {
   "cell_type": "code",
   "execution_count": 1,
   "metadata": {
    "ExecuteTime": {
     "end_time": "2019-10-19T04:11:00.713658Z",
     "start_time": "2019-10-19T04:10:58.788531Z"
    },
    "colab": {},
    "colab_type": "code",
    "id": "2nyvaFZnYYtm",
    "slideshow": {
     "slide_type": "slide"
    }
   },
   "outputs": [],
   "source": [
    "# xarray is the core package we are going to use\n",
    "import xarray as xr\n",
    "import matplotlib.pyplot as plt"
   ]
  },
  {
   "cell_type": "code",
   "execution_count": 2,
   "metadata": {
    "ExecuteTime": {
     "end_time": "2019-10-19T04:11:02.834207Z",
     "start_time": "2019-10-19T04:11:02.821872Z"
    },
    "slideshow": {
     "slide_type": "fragment"
    }
   },
   "outputs": [],
   "source": [
    "%config InlineBackend.figure_format ='retina'\n",
    "plt.rcParams['figure.dpi'] = 120"
   ]
  },
  {
   "cell_type": "markdown",
   "metadata": {
    "colab_type": "text",
    "id": "azoylog2-GzB",
    "slideshow": {
     "slide_type": "slide"
    }
   },
   "source": [
    "Use `xr.open_dataset` to open the dataset from the remote server.\n"
   ]
  },
  {
   "cell_type": "code",
   "execution_count": 4,
   "metadata": {
    "ExecuteTime": {
     "end_time": "2019-10-19T04:11:39.497549Z",
     "start_time": "2019-10-19T04:11:34.662736Z"
    },
    "colab": {
     "base_uri": "https://localhost:8080/",
     "height": 244
    },
    "colab_type": "code",
    "executionInfo": {
     "elapsed": 835,
     "status": "ok",
     "timestamp": 1568235456809,
     "user": {
      "displayName": "Wenchang Yang",
      "photoUrl": "https://lh3.googleusercontent.com/a-/AAuE7mAzexWcchBOvHGw9u_Nm2D-vWc4ApTqQ4uLX1i-=s64",
      "userId": "02317458745209383076"
     },
     "user_tz": 240
    },
    "id": "bik3mA4tYefp",
    "outputId": "c95cc7cf-0866-43b3-ca86-44fa0d0320f8",
    "slideshow": {
     "slide_type": "fragment"
    }
   },
   "outputs": [
    {
     "name": "stdout",
     "output_type": "stream",
     "text": [
      "http://iridl.ldeo.columbia.edu/SOURCES/.NOAA/.NCDC/.ERSST/.version5/.sst/T/%28Jan%201979%29/%28Dec%202018%29/RANGE/X//lon/renameGRID/Y//lat/renameGRID/T//time/renameGRID/time/(days%20since%201979-01-01)/streamgridunitconvert%5Bzlev%5Daverage/dods\n",
      "<xarray.Dataset>\n",
      "Dimensions:  (lat: 89, lon: 180, time: 480)\n",
      "Coordinates:\n",
      "  * lat      (lat) float32 -88.0 -86.0 -84.0 -82.0 -80.0 ... 82.0 84.0 86.0 88.0\n",
      "  * lon      (lon) float32 0.0 2.0 4.0 6.0 8.0 ... 350.0 352.0 354.0 356.0 358.0\n",
      "  * time     (time) datetime64[ns] 1979-01-16T12:00:00 ... 2018-12-16T12:00:00\n",
      "Data variables:\n",
      "    sst      (time, lat, lon) float64 nan nan nan nan ... -1.8 -1.8 -1.8 -1.8\n",
      "Attributes:\n",
      "    Conventions:  IRIDL\n"
     ]
    }
   ],
   "source": [
    "ifile = 'http://iridl.ldeo.columbia.edu/SOURCES/.NOAA/.NCDC/.ERSST/.version5/.sst/T/%28Jan%201979%29/%28Dec%202018%29/RANGE/X//lon/renameGRID/Y//lat/renameGRID/T//time/renameGRID/time/(days%20since%201979-01-01)/streamgridunitconvert%5Bzlev%5Daverage/dods'\n",
    "print(ifile)\n",
    "ds = xr.open_dataset(ifile).load()\n",
    "print(ds)"
   ]
  },
  {
   "cell_type": "code",
   "execution_count": null,
   "metadata": {
    "ExecuteTime": {
     "end_time": "2019-10-19T03:40:46.048837Z",
     "start_time": "2019-10-19T03:40:46.045924Z"
    },
    "slideshow": {
     "slide_type": "skip"
    }
   },
   "outputs": [],
   "source": [
    "# # backup plan to load the dataset\n",
    "# #ds.to_netcdf('ersst.v5.1979-2018.nc', encoding={'sst': {'zlib': True, 'complevel': 1}})\n",
    "ds = xr.open_dataset('ersst.v5.1979-2018.nc')\n",
    "ds"
   ]
  },
  {
   "cell_type": "code",
   "execution_count": null,
   "metadata": {
    "ExecuteTime": {
     "end_time": "2019-10-19T03:40:46.077671Z",
     "start_time": "2019-10-19T03:40:46.053220Z"
    },
    "colab": {
     "base_uri": "https://localhost:8080/",
     "height": 680
    },
    "colab_type": "code",
    "executionInfo": {
     "elapsed": 373,
     "status": "ok",
     "timestamp": 1568235473744,
     "user": {
      "displayName": "Wenchang Yang",
      "photoUrl": "https://lh3.googleusercontent.com/a-/AAuE7mAzexWcchBOvHGw9u_Nm2D-vWc4ApTqQ4uLX1i-=s64",
      "userId": "02317458745209383076"
     },
     "user_tz": 240
    },
    "id": "0zlj6wYmblPe",
    "outputId": "f157298b-4297-41c6-a43e-798e4c8b1e19",
    "slideshow": {
     "slide_type": "subslide"
    }
   },
   "outputs": [],
   "source": [
    "sst = ds.sst\n",
    "sst"
   ]
  },
  {
   "cell_type": "markdown",
   "metadata": {
    "colab_type": "text",
    "id": "ZJsFwOBn_i3B",
    "slideshow": {
     "slide_type": "slide"
    }
   },
   "source": [
    "## Explore the data by making simple plots"
   ]
  },
  {
   "cell_type": "code",
   "execution_count": null,
   "metadata": {
    "ExecuteTime": {
     "end_time": "2019-10-19T03:40:46.604347Z",
     "start_time": "2019-10-19T03:40:46.081358Z"
    },
    "colab": {
     "base_uri": "https://localhost:8080/",
     "height": 497
    },
    "colab_type": "code",
    "executionInfo": {
     "elapsed": 1546,
     "status": "ok",
     "timestamp": 1567700510045,
     "user": {
      "displayName": "Wenchang Yang",
      "photoUrl": "https://lh3.googleusercontent.com/a-/AAuE7mAzexWcchBOvHGw9u_Nm2D-vWc4ApTqQ4uLX1i-=s64",
      "userId": "02317458745209383076"
     },
     "user_tz": 240
    },
    "id": "0kyXFOn7e3HU",
    "outputId": "13ca50d3-bd9e-4769-a00e-4e8ada0836fa",
    "slideshow": {
     "slide_type": "fragment"
    }
   },
   "outputs": [],
   "source": [
    "sst.isel(time=227).plot()"
   ]
  },
  {
   "cell_type": "markdown",
   "metadata": {
    "colab_type": "text",
    "id": "a3jcFWMof03G",
    "slideshow": {
     "slide_type": "slide"
    }
   },
   "source": [
    "More experiments on plotting:\n",
    "* select date/time explicitly\n",
    "* change colormap/levels\n",
    "* contourf/contour\n"
   ]
  },
  {
   "cell_type": "code",
   "execution_count": null,
   "metadata": {
    "ExecuteTime": {
     "end_time": "2019-10-19T03:40:47.129830Z",
     "start_time": "2019-10-19T03:40:46.608321Z"
    },
    "colab": {
     "base_uri": "https://localhost:8080/",
     "height": 497
    },
    "colab_type": "code",
    "executionInfo": {
     "elapsed": 1530,
     "status": "ok",
     "timestamp": 1567700514321,
     "user": {
      "displayName": "Wenchang Yang",
      "photoUrl": "https://lh3.googleusercontent.com/a-/AAuE7mAzexWcchBOvHGw9u_Nm2D-vWc4ApTqQ4uLX1i-=s64",
      "userId": "02317458745209383076"
     },
     "user_tz": 240
    },
    "id": "vfJqB6dBgWU3",
    "outputId": "b960cfd3-2403-4b49-a926-93f3b7d02cc6",
    "slideshow": {
     "slide_type": "subslide"
    }
   },
   "outputs": [],
   "source": [
    "# specify date/time explicitly\n",
    "# sst.isel(time=227).plot()\n",
    "sst.sel(time='1997-12-16T12').plot()"
   ]
  },
  {
   "cell_type": "code",
   "execution_count": null,
   "metadata": {
    "ExecuteTime": {
     "end_time": "2019-10-19T03:40:47.574042Z",
     "start_time": "2019-10-19T03:40:47.135773Z"
    },
    "colab": {
     "base_uri": "https://localhost:8080/",
     "height": 497
    },
    "colab_type": "code",
    "executionInfo": {
     "elapsed": 1184,
     "status": "ok",
     "timestamp": 1567700519284,
     "user": {
      "displayName": "Wenchang Yang",
      "photoUrl": "https://lh3.googleusercontent.com/a-/AAuE7mAzexWcchBOvHGw9u_Nm2D-vWc4ApTqQ4uLX1i-=s64",
      "userId": "02317458745209383076"
     },
     "user_tz": 240
    },
    "id": "WS-0wsl3n7gi",
    "outputId": "aae88fe2-11e0-4c8a-93c1-c585a9cf822f",
    "slideshow": {
     "slide_type": "subslide"
    }
   },
   "outputs": [],
   "source": [
    "# change levels\n",
    "sst.sel(time='1997-12-16T12').plot(levels=20)"
   ]
  },
  {
   "cell_type": "code",
   "execution_count": null,
   "metadata": {
    "ExecuteTime": {
     "end_time": "2019-10-19T03:40:48.098106Z",
     "start_time": "2019-10-19T03:40:47.578460Z"
    },
    "colab": {
     "base_uri": "https://localhost:8080/",
     "height": 497
    },
    "colab_type": "code",
    "executionInfo": {
     "elapsed": 1184,
     "status": "ok",
     "timestamp": 1567700519284,
     "user": {
      "displayName": "Wenchang Yang",
      "photoUrl": "https://lh3.googleusercontent.com/a-/AAuE7mAzexWcchBOvHGw9u_Nm2D-vWc4ApTqQ4uLX1i-=s64",
      "userId": "02317458745209383076"
     },
     "user_tz": 240
    },
    "id": "WS-0wsl3n7gi",
    "outputId": "aae88fe2-11e0-4c8a-93c1-c585a9cf822f",
    "slideshow": {
     "slide_type": "subslide"
    }
   },
   "outputs": [],
   "source": [
    "# change color map\n",
    "sst.sel(time='1997-12-16T12').plot(levels=20, center=False, cmap='Spectral_r')"
   ]
  },
  {
   "cell_type": "code",
   "execution_count": null,
   "metadata": {
    "ExecuteTime": {
     "end_time": "2019-10-19T03:40:48.539001Z",
     "start_time": "2019-10-19T03:40:48.101412Z"
    },
    "colab": {
     "base_uri": "https://localhost:8080/",
     "height": 497
    },
    "colab_type": "code",
    "executionInfo": {
     "elapsed": 1184,
     "status": "ok",
     "timestamp": 1567700519284,
     "user": {
      "displayName": "Wenchang Yang",
      "photoUrl": "https://lh3.googleusercontent.com/a-/AAuE7mAzexWcchBOvHGw9u_Nm2D-vWc4ApTqQ4uLX1i-=s64",
      "userId": "02317458745209383076"
     },
     "user_tz": 240
    },
    "id": "WS-0wsl3n7gi",
    "outputId": "aae88fe2-11e0-4c8a-93c1-c585a9cf822f",
    "slideshow": {
     "slide_type": "subslide"
    }
   },
   "outputs": [],
   "source": [
    "# change to contourf\n",
    "sst.sel(time='1997-12-16T12').plot.contourf(levels=20, center=False, cmap='Spectral_r')"
   ]
  },
  {
   "cell_type": "markdown",
   "metadata": {
    "colab_type": "text",
    "id": "6jOauaTZBOR0",
    "slideshow": {
     "slide_type": "slide"
    }
   },
   "source": [
    "## SST change from the first 10 years to the last 10 years"
   ]
  },
  {
   "cell_type": "code",
   "execution_count": null,
   "metadata": {
    "ExecuteTime": {
     "end_time": "2019-10-19T03:40:48.585565Z",
     "start_time": "2019-10-19T03:40:48.541310Z"
    },
    "colab": {
     "base_uri": "https://localhost:8080/",
     "height": 374
    },
    "colab_type": "code",
    "executionInfo": {
     "elapsed": 880,
     "status": "ok",
     "timestamp": 1567700527231,
     "user": {
      "displayName": "Wenchang Yang",
      "photoUrl": "https://lh3.googleusercontent.com/a-/AAuE7mAzexWcchBOvHGw9u_Nm2D-vWc4ApTqQ4uLX1i-=s64",
      "userId": "02317458745209383076"
     },
     "user_tz": 240
    },
    "id": "dV7z9TxzBXjS",
    "outputId": "769688d4-f9d4-4aca-829d-74fd40abac11",
    "slideshow": {
     "slide_type": "fragment"
    }
   },
   "outputs": [],
   "source": [
    "sst_early = sst.sel(time=slice('1979-01', '1988-12')).mean('time')\n",
    "sst_late = sst.sel(time=slice('2009-01', '2018-12')).mean('time')\n",
    "dsst = sst_late - sst_early\n",
    "dsst.attrs['long_name'] = 'SST change from 1979-1988 to 2009-2018'\n",
    "dsst"
   ]
  },
  {
   "cell_type": "code",
   "execution_count": null,
   "metadata": {
    "ExecuteTime": {
     "end_time": "2019-10-19T03:40:49.114615Z",
     "start_time": "2019-10-19T03:40:48.588407Z"
    },
    "colab": {
     "base_uri": "https://localhost:8080/",
     "height": 473
    },
    "colab_type": "code",
    "executionInfo": {
     "elapsed": 1099,
     "status": "ok",
     "timestamp": 1567700531096,
     "user": {
      "displayName": "Wenchang Yang",
      "photoUrl": "https://lh3.googleusercontent.com/a-/AAuE7mAzexWcchBOvHGw9u_Nm2D-vWc4ApTqQ4uLX1i-=s64",
      "userId": "02317458745209383076"
     },
     "user_tz": 240
    },
    "id": "3ITVOsrxB8nY",
    "outputId": "720cf2d8-242e-4cc2-b3ea-35b032447926",
    "slideshow": {
     "slide_type": "subslide"
    }
   },
   "outputs": [],
   "source": [
    "dsst.plot.contourf(levels=20)\n",
    "# cooling over the Southern Ocean and Southeast Pacific"
   ]
  },
  {
   "cell_type": "markdown",
   "metadata": {
    "slideshow": {
     "slide_type": "fragment"
    }
   },
   "source": [
    "Not warming everywhere. Southern Ocean and Southeast Pacific"
   ]
  },
  {
   "cell_type": "markdown",
   "metadata": {
    "colab_type": "text",
    "id": "5mdosowc_1r-",
    "slideshow": {
     "slide_type": "slide"
    }
   },
   "source": [
    "## Calculate monthly climatology\n",
    "* multiple-year mean value for each month\n",
    "* use the `groupby('time.month')` method\n",
    "\n"
   ]
  },
  {
   "cell_type": "code",
   "execution_count": null,
   "metadata": {
    "ExecuteTime": {
     "end_time": "2019-10-19T03:40:49.186093Z",
     "start_time": "2019-10-19T03:40:49.119633Z"
    },
    "colab": {
     "base_uri": "https://localhost:8080/",
     "height": 561
    },
    "colab_type": "code",
    "executionInfo": {
     "elapsed": 535,
     "status": "ok",
     "timestamp": 1567700535160,
     "user": {
      "displayName": "Wenchang Yang",
      "photoUrl": "https://lh3.googleusercontent.com/a-/AAuE7mAzexWcchBOvHGw9u_Nm2D-vWc4ApTqQ4uLX1i-=s64",
      "userId": "02317458745209383076"
     },
     "user_tz": 240
    },
    "id": "amj-cl6uhUNB",
    "outputId": "9a31c520-72e5-4f1c-a7d7-cbc1784db3b5",
    "slideshow": {
     "slide_type": "subslide"
    }
   },
   "outputs": [],
   "source": [
    "sst_clim = sst.groupby('time.month').mean('time')\n",
    "sst_clim"
   ]
  },
  {
   "cell_type": "code",
   "execution_count": null,
   "metadata": {
    "ExecuteTime": {
     "end_time": "2019-10-19T03:40:49.671289Z",
     "start_time": "2019-10-19T03:40:49.188456Z"
    },
    "colab": {
     "base_uri": "https://localhost:8080/",
     "height": 497
    },
    "colab_type": "code",
    "executionInfo": {
     "elapsed": 1135,
     "status": "ok",
     "timestamp": 1567702646499,
     "user": {
      "displayName": "Wenchang Yang",
      "photoUrl": "https://lh3.googleusercontent.com/a-/AAuE7mAzexWcchBOvHGw9u_Nm2D-vWc4ApTqQ4uLX1i-=s64",
      "userId": "02317458745209383076"
     },
     "user_tz": 240
    },
    "id": "ylFQLkR4hzlO",
    "outputId": "4f201bb1-9f5f-4e56-d012-c1ebe60ad00b",
    "slideshow": {
     "slide_type": "subslide"
    }
   },
   "outputs": [],
   "source": [
    "sst_clim.sel(month=1).plot.contourf(levels=20, center=False, cmap='Spectral_r')"
   ]
  },
  {
   "cell_type": "code",
   "execution_count": null,
   "metadata": {
    "ExecuteTime": {
     "end_time": "2019-10-19T03:40:50.161785Z",
     "start_time": "2019-10-19T03:40:49.676320Z"
    },
    "colab": {
     "base_uri": "https://localhost:8080/",
     "height": 497
    },
    "colab_type": "code",
    "executionInfo": {
     "elapsed": 1132,
     "status": "ok",
     "timestamp": 1567702641092,
     "user": {
      "displayName": "Wenchang Yang",
      "photoUrl": "https://lh3.googleusercontent.com/a-/AAuE7mAzexWcchBOvHGw9u_Nm2D-vWc4ApTqQ4uLX1i-=s64",
      "userId": "02317458745209383076"
     },
     "user_tz": 240
    },
    "id": "3NvbMJxTiUHm",
    "outputId": "9f7b729e-4164-4b04-ef49-b678a208880d",
    "slideshow": {
     "slide_type": "subslide"
    }
   },
   "outputs": [],
   "source": [
    "sst_clim.sel(month=7).plot.contourf(levels=20, center=False, cmap='Spectral_r')"
   ]
  },
  {
   "cell_type": "markdown",
   "metadata": {
    "colab_type": "text",
    "id": "v1XrPXO9AbmH",
    "slideshow": {
     "slide_type": "subslide"
    }
   },
   "source": [
    "Make 12 subplots using a single command."
   ]
  },
  {
   "cell_type": "code",
   "execution_count": null,
   "metadata": {
    "ExecuteTime": {
     "end_time": "2019-10-19T03:40:54.097475Z",
     "start_time": "2019-10-19T03:40:50.166479Z"
    },
    "colab": {
     "base_uri": "https://localhost:8080/",
     "height": 1000
    },
    "colab_type": "code",
    "executionInfo": {
     "elapsed": 4631,
     "status": "ok",
     "timestamp": 1567700569017,
     "user": {
      "displayName": "Wenchang Yang",
      "photoUrl": "https://lh3.googleusercontent.com/a-/AAuE7mAzexWcchBOvHGw9u_Nm2D-vWc4ApTqQ4uLX1i-=s64",
      "userId": "02317458745209383076"
     },
     "user_tz": 240
    },
    "id": "CDFFxfZBicEF",
    "outputId": "3e13395e-1d61-4301-d096-048cab906141",
    "slideshow": {
     "slide_type": "fragment"
    }
   },
   "outputs": [],
   "source": [
    "sst_clim.plot.contourf(col='month', col_wrap=6, \n",
    "                       levels=20, cmap='Spectral_r', center=False)"
   ]
  },
  {
   "cell_type": "markdown",
   "metadata": {
    "colab_type": "text",
    "id": "qDimD2IIAp22",
    "slideshow": {
     "slide_type": "slide"
    }
   },
   "source": [
    "## Calculate monthly anomaly\n",
    "Subtract the monthly climatology from the raw SST data."
   ]
  },
  {
   "cell_type": "code",
   "execution_count": null,
   "metadata": {
    "ExecuteTime": {
     "end_time": "2019-10-19T03:40:54.276554Z",
     "start_time": "2019-10-19T03:40:54.099323Z"
    },
    "colab": {
     "base_uri": "https://localhost:8080/",
     "height": 561
    },
    "colab_type": "code",
    "executionInfo": {
     "elapsed": 800,
     "status": "ok",
     "timestamp": 1567700593776,
     "user": {
      "displayName": "Wenchang Yang",
      "photoUrl": "https://lh3.googleusercontent.com/a-/AAuE7mAzexWcchBOvHGw9u_Nm2D-vWc4ApTqQ4uLX1i-=s64",
      "userId": "02317458745209383076"
     },
     "user_tz": 240
    },
    "id": "TQBWe3yxjptK",
    "outputId": "4dc7bdc7-1132-451b-8a2d-c61d3214683d",
    "slideshow": {
     "slide_type": "subslide"
    }
   },
   "outputs": [],
   "source": [
    "ssta = sst.groupby('time.month') - sst_clim\n",
    "ssta"
   ]
  },
  {
   "cell_type": "code",
   "execution_count": null,
   "metadata": {
    "ExecuteTime": {
     "end_time": "2019-10-19T03:40:54.753735Z",
     "start_time": "2019-10-19T03:40:54.279221Z"
    },
    "colab": {
     "base_uri": "https://localhost:8080/",
     "height": 507
    },
    "colab_type": "code",
    "executionInfo": {
     "elapsed": 1136,
     "status": "ok",
     "timestamp": 1567700660707,
     "user": {
      "displayName": "Wenchang Yang",
      "photoUrl": "https://lh3.googleusercontent.com/a-/AAuE7mAzexWcchBOvHGw9u_Nm2D-vWc4ApTqQ4uLX1i-=s64",
      "userId": "02317458745209383076"
     },
     "user_tz": 240
    },
    "id": "OKZ-I_UJkTMk",
    "outputId": "675e0cdd-cd18-4e17-fc3a-3c871b0f5227",
    "slideshow": {
     "slide_type": "subslide"
    }
   },
   "outputs": [],
   "source": [
    "ssta.sel(time=slice('1997-12', '1998-02')).mean('time').plot.contourf(levels=20)"
   ]
  },
  {
   "cell_type": "markdown",
   "metadata": {
    "colab_type": "text",
    "id": "ROmgatpmA1og",
    "slideshow": {
     "slide_type": "slide"
    }
   },
   "source": [
    "## Calculate the Nino3.4 index\n",
    "* SST averaged over the Nino3.4 region: 170W-120W, 5S-5N\n",
    "![ENSO](http://www.bom.gov.au/climate/enso/indices/oceanic-indices-map.gif)\n",
    "http://www.bom.gov.au/climate/enso/indices/oceanic-indices-map.gif"
   ]
  },
  {
   "cell_type": "code",
   "execution_count": null,
   "metadata": {
    "ExecuteTime": {
     "end_time": "2019-10-19T03:40:54.784509Z",
     "start_time": "2019-10-19T03:40:54.757596Z"
    },
    "colab": {
     "base_uri": "https://localhost:8080/",
     "height": 153
    },
    "colab_type": "code",
    "executionInfo": {
     "elapsed": 453,
     "status": "ok",
     "timestamp": 1567700672119,
     "user": {
      "displayName": "Wenchang Yang",
      "photoUrl": "https://lh3.googleusercontent.com/a-/AAuE7mAzexWcchBOvHGw9u_Nm2D-vWc4ApTqQ4uLX1i-=s64",
      "userId": "02317458745209383076"
     },
     "user_tz": 240
    },
    "id": "fusZ4HXhuDXt",
    "outputId": "d962bf54-3d16-4684-9ca7-a5bf66739104",
    "slideshow": {
     "slide_type": "subslide"
    }
   },
   "outputs": [],
   "source": [
    "nino34 = ssta.sel(lon=slice(360-170,360-120),lat=slice(-5,5)).mean(['lon','lat'])\n",
    "nino34.attrs['long_name'] = 'Nino3.4 index'\n",
    "nino34"
   ]
  },
  {
   "cell_type": "code",
   "execution_count": null,
   "metadata": {
    "ExecuteTime": {
     "end_time": "2019-10-19T03:40:55.173373Z",
     "start_time": "2019-10-19T03:40:54.788234Z"
    },
    "colab": {
     "base_uri": "https://localhost:8080/",
     "height": 492
    },
    "colab_type": "code",
    "executionInfo": {
     "elapsed": 1663,
     "status": "ok",
     "timestamp": 1567700675793,
     "user": {
      "displayName": "Wenchang Yang",
      "photoUrl": "https://lh3.googleusercontent.com/a-/AAuE7mAzexWcchBOvHGw9u_Nm2D-vWc4ApTqQ4uLX1i-=s64",
      "userId": "02317458745209383076"
     },
     "user_tz": 240
    },
    "id": "h7W9LsfhuP2i",
    "outputId": "1d8aa14d-32ba-423c-da48-b06c8e816c3a",
    "slideshow": {
     "slide_type": "subslide"
    }
   },
   "outputs": [],
   "source": [
    "nino34.plot()\n",
    "plt.axvline('2015-12', color='gray', ls='--')\n",
    "plt.text('2015-12', 2, '2015-12', rotation=-45, color='gray', )\n",
    "plt.axvline('1997-12', color='gray', ls='--')\n",
    "plt.text('1997-12', 2, '1997-12', rotation=-45, color='gray', )\n",
    "plt.axvline('1982-12', color='gray', ls='--')\n",
    "plt.text('1982-12', 2, '1982-12', rotation=-45, color='gray', )"
   ]
  },
  {
   "cell_type": "markdown",
   "metadata": {
    "slideshow": {
     "slide_type": "slide"
    }
   },
   "source": [
    "## Seasonality of El Nino/Lanina"
   ]
  },
  {
   "cell_type": "code",
   "execution_count": null,
   "metadata": {
    "ExecuteTime": {
     "end_time": "2019-10-19T03:40:55.749009Z",
     "start_time": "2019-10-19T03:40:55.178694Z"
    },
    "colab": {
     "base_uri": "https://localhost:8080/",
     "height": 473
    },
    "colab_type": "code",
    "executionInfo": {
     "elapsed": 1155,
     "status": "ok",
     "timestamp": 1567700813854,
     "user": {
      "displayName": "Wenchang Yang",
      "photoUrl": "https://lh3.googleusercontent.com/a-/AAuE7mAzexWcchBOvHGw9u_Nm2D-vWc4ApTqQ4uLX1i-=s64",
      "userId": "02317458745209383076"
     },
     "user_tz": 240
    },
    "id": "Z60v5lhZ1vG2",
    "outputId": "74dff819-35de-4ecf-f666-c9eaa2dad22b",
    "slideshow": {
     "slide_type": "slide"
    }
   },
   "outputs": [],
   "source": [
    "nino34.groupby('time.month').std('time').plot()\n",
    "plt.ylabel('Nino3.4 standard deviation [$^\\circ$C]')"
   ]
  },
  {
   "cell_type": "markdown",
   "metadata": {
    "slideshow": {
     "slide_type": "fragment"
    }
   },
   "source": [
    "December shows the largest variability!"
   ]
  }
 ],
 "metadata": {
  "celltoolbar": "Slideshow",
  "colab": {
   "collapsed_sections": [],
   "name": "sst.ipynb",
   "provenance": [],
   "toc_visible": true,
   "version": "0.3.2"
  },
  "hide_input": false,
  "kernelspec": {
   "display_name": "Python 3",
   "language": "python",
   "name": "python3"
  },
  "language_info": {
   "codemirror_mode": {
    "name": "ipython",
    "version": 3
   },
   "file_extension": ".py",
   "mimetype": "text/x-python",
   "name": "python",
   "nbconvert_exporter": "python",
   "pygments_lexer": "ipython3",
   "version": "3.6.7"
  },
  "toc": {
   "base_numbering": 1,
   "nav_menu": {},
   "number_sections": false,
   "sideBar": true,
   "skip_h1_title": false,
   "title_cell": "Table of Contents",
   "title_sidebar": "Contents",
   "toc_cell": false,
   "toc_position": {},
   "toc_section_display": true,
   "toc_window_display": false
  }
 },
 "nbformat": 4,
 "nbformat_minor": 1
}
